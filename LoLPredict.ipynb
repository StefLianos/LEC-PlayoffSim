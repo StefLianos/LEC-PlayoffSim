{
 "cells": [
  {
   "cell_type": "code",
   "execution_count": 1,
   "metadata": {},
   "outputs": [],
   "source": [
    "import numpy as np"
   ]
  },
  {
   "cell_type": "code",
   "execution_count": 2,
   "metadata": {},
   "outputs": [],
   "source": [
    "import pandas as pd"
   ]
  },
  {
   "cell_type": "code",
   "execution_count": 3,
   "metadata": {},
   "outputs": [],
   "source": [
    "import random"
   ]
  },
  {
   "cell_type": "code",
   "execution_count": 4,
   "metadata": {},
   "outputs": [],
   "source": [
    "class Team:\n",
    "    def __init__(self, name, wins, losses, L5W, L5L):\n",
    "        self.name = name\n",
    "        self.wins = wins\n",
    "        self.losses = losses\n",
    "        self.L5W = L5W\n",
    "        self.L5L = L5L\n",
    "        \n",
    "    def addWin(self):        \n",
    "        self.wins += 1\n",
    "        self.L5W  += 1\n",
    "        self.L5L  -= 1\n",
    "        \n",
    "    def addLoss(self):        \n",
    "        self.losses += 1\n",
    "        self.L5W    -= 1\n",
    "        self.L5L    += 1\n",
    "        \n",
    "\n",
    "        "
   ]
  },
  {
   "cell_type": "code",
   "execution_count": 5,
   "metadata": {},
   "outputs": [],
   "source": [
    "#def play game\n",
    "def PickWinner(A,B):\n",
    "    \n",
    "    #calc strengths / record coef 2 / L5 coef 1\n",
    "    strA = 2*(A.wins-A.losses)+(A.L5W-A.L5L)\n",
    "    strB = 2*(B.wins-B.losses)+(B.L5W-B.L5L)\n",
    "    \n",
    "    #normalize\n",
    "    WA = strA*100/(strA+strB)\n",
    "    WB = strB*100/(strA+strB)\n",
    "    \n",
    "    \n",
    "    WR = random.randint(1,101)\n",
    "    \n",
    "    #pick winner\n",
    "    if(WR<WA):\n",
    "        A.addWin()\n",
    "        B.addLoss()\n",
    "        return A\n",
    "    else:\n",
    "        B.addWin()\n",
    "        A.addLoss()\n",
    "        return B\n",
    "    \n",
    "    "
   ]
  },
  {
   "cell_type": "code",
   "execution_count": 13,
   "metadata": {},
   "outputs": [
    {
     "data": {
      "text/html": [
       "<div>\n",
       "<style scoped>\n",
       "    .dataframe tbody tr th:only-of-type {\n",
       "        vertical-align: middle;\n",
       "    }\n",
       "\n",
       "    .dataframe tbody tr th {\n",
       "        vertical-align: top;\n",
       "    }\n",
       "\n",
       "    .dataframe thead th {\n",
       "        text-align: right;\n",
       "    }\n",
       "</style>\n",
       "<table border=\"1\" class=\"dataframe\">\n",
       "  <thead>\n",
       "    <tr style=\"text-align: right;\">\n",
       "      <th></th>\n",
       "      <th>G2</th>\n",
       "      <th>SPY</th>\n",
       "      <th>OG</th>\n",
       "      <th>FNC</th>\n",
       "      <th>VIT</th>\n",
       "      <th>SH4</th>\n",
       "    </tr>\n",
       "  </thead>\n",
       "  <tbody>\n",
       "    <tr>\n",
       "      <th>WINS</th>\n",
       "      <td>0</td>\n",
       "      <td>0</td>\n",
       "      <td>0</td>\n",
       "      <td>0</td>\n",
       "      <td>0</td>\n",
       "      <td>0</td>\n",
       "    </tr>\n",
       "  </tbody>\n",
       "</table>\n",
       "</div>"
      ],
      "text/plain": [
       "      G2  SPY  OG  FNC  VIT  SH4\n",
       "WINS   0    0   0    0    0    0"
      ]
     },
     "execution_count": 13,
     "metadata": {},
     "output_type": "execute_result"
    }
   ],
   "source": [
    "#teams championship count\n",
    "\n",
    "d = {'G2':[0],'SPY':[0],'OG':[0],'FNC':[0],'VIT':[0],\"SH4\":[0]}\n",
    "teams = pd.DataFrame(data=d)\n",
    "teams = teams.rename(index = {0: \"WINS\"})\n",
    "teams"
   ]
  },
  {
   "cell_type": "code",
   "execution_count": 7,
   "metadata": {},
   "outputs": [],
   "source": [
    "\n",
    "def Simulate():\n",
    "    #teams\n",
    "    G2  = Team(\"G2\",14,4,2,3)\n",
    "    SPY = Team(\"SPY\",11,7,4,1)\n",
    "    OG  = Team(\"OG\",12,6,4,1)\n",
    "    FNC = Team(\"FNC\",11,7,5,0)\n",
    "    VIT = Team(\"VIT\",11,7,2,3)\n",
    "    SH4 = Team(\"SH4\",9,9,5,0)\n",
    "\n",
    "\n",
    "    #R1G1 3v6 / R1G2 4v5\n",
    "    R1G1 = PickWinner(FNC,SH4)\n",
    "    R1G2 = PickWinner(VIT,SPY)\n",
    "\n",
    "    #R2G1 R1G1vR1G2\n",
    "    R2G1 = PickWinner(R1G1,R1G2)\n",
    "\n",
    "    #R3G1 1v2\n",
    "    R3G1 = PickWinner(G2,OG)\n",
    "    #loser\n",
    "    if(R3G1.name==\"G2\"):\n",
    "        LR3G1 = OG\n",
    "    else:\n",
    "        LR3G1 = G2\n",
    "\n",
    "    #R3G2 R2G1vLR3G1\n",
    "    R3G2 = PickWinner(R2G1,LR3G1)\n",
    "\n",
    "    #Final R3G1vR3G2\n",
    "    Final = PickWinner(R3G1,R3G2)\n",
    "    return Final.name\n",
    "    "
   ]
  },
  {
   "cell_type": "code",
   "execution_count": 14,
   "metadata": {
    "scrolled": false
   },
   "outputs": [
    {
     "data": {
      "text/html": [
       "<div>\n",
       "<style scoped>\n",
       "    .dataframe tbody tr th:only-of-type {\n",
       "        vertical-align: middle;\n",
       "    }\n",
       "\n",
       "    .dataframe tbody tr th {\n",
       "        vertical-align: top;\n",
       "    }\n",
       "\n",
       "    .dataframe thead th {\n",
       "        text-align: right;\n",
       "    }\n",
       "</style>\n",
       "<table border=\"1\" class=\"dataframe\">\n",
       "  <thead>\n",
       "    <tr style=\"text-align: right;\">\n",
       "      <th></th>\n",
       "      <th>G2</th>\n",
       "      <th>SPY</th>\n",
       "      <th>OG</th>\n",
       "      <th>FNC</th>\n",
       "      <th>VIT</th>\n",
       "      <th>SH4</th>\n",
       "    </tr>\n",
       "  </thead>\n",
       "  <tbody>\n",
       "    <tr>\n",
       "      <th>WINS</th>\n",
       "      <td>3972</td>\n",
       "      <td>1080</td>\n",
       "      <td>2947</td>\n",
       "      <td>1309</td>\n",
       "      <td>419</td>\n",
       "      <td>273</td>\n",
       "    </tr>\n",
       "  </tbody>\n",
       "</table>\n",
       "</div>"
      ],
      "text/plain": [
       "        G2   SPY    OG   FNC  VIT  SH4\n",
       "WINS  3972  1080  2947  1309  419  273"
      ]
     },
     "execution_count": 14,
     "metadata": {},
     "output_type": "execute_result"
    }
   ],
   "source": [
    "#simulate x playoffs\n",
    "for x in range(0,10000):\n",
    "    teams[Simulate()]+=1\n",
    "\n",
    "teams"
   ]
  },
  {
   "cell_type": "code",
   "execution_count": null,
   "metadata": {},
   "outputs": [],
   "source": []
  },
  {
   "cell_type": "code",
   "execution_count": null,
   "metadata": {},
   "outputs": [],
   "source": []
  }
 ],
 "metadata": {
  "kernelspec": {
   "display_name": "Python 3",
   "language": "python",
   "name": "python3"
  },
  "language_info": {
   "codemirror_mode": {
    "name": "ipython",
    "version": 3
   },
   "file_extension": ".py",
   "mimetype": "text/x-python",
   "name": "python",
   "nbconvert_exporter": "python",
   "pygments_lexer": "ipython3",
   "version": "3.7.2"
  }
 },
 "nbformat": 4,
 "nbformat_minor": 2
}
