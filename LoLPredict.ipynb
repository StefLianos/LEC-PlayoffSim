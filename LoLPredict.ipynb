{
 "cells": [
  {
   "cell_type": "code",
   "execution_count": 1,
   "metadata": {},
   "outputs": [],
   "source": [
    "import numpy as np"
   ]
  },
  {
   "cell_type": "code",
   "execution_count": 2,
   "metadata": {},
   "outputs": [],
   "source": [
    "import pandas as pd"
   ]
  },
  {
   "cell_type": "code",
   "execution_count": 3,
   "metadata": {},
   "outputs": [],
   "source": [
    "import random"
   ]
  },
  {
   "cell_type": "code",
   "execution_count": 4,
   "metadata": {},
   "outputs": [],
   "source": [
    "class Team:\n",
    "    def __init__(self, name, wins, losses, L5W, L5L, KDA, GPG, CS):\n",
    "        self.name = name\n",
    "        self.wins = wins\n",
    "        self.losses = losses\n",
    "        self.L5W = L5W\n",
    "        self.L5L = L5L\n",
    "        self.KDA = KDA\n",
    "        self.GPG = GPG\n",
    "        self.CS = CS\n",
    "        \n",
    "    def addWin(self):        \n",
    "        self.wins += 1\n",
    "        self.L5W  += 1\n",
    "        self.L5L  -= 1\n",
    "        \n",
    "    def addLoss(self):        \n",
    "        self.losses += 1\n",
    "        self.L5W    -= 1\n",
    "        self.L5L    += 1\n",
    "        \n",
    "\n",
    "        "
   ]
  },
  {
   "cell_type": "markdown",
   "metadata": {},
   "source": [
    "# Simulation\n",
    "\n",
    "We calculate a teams strength based on 5 metrics:\n",
    " - The overall win loss record\n",
    " - The last 5 game record to represent recent performance\n",
    " - The average team KDA\n",
    " - The average gold earned in game (could't find dragons/baron so its the best objective representation I have)\n",
    " - The average CS earbed in on game by the whole team\n",
    " \n",
    "In addition we also use weights:\n",
    " - The last five games will count a third more than previous game\n",
    " - The other attributes will have a weight of 0.25\n",
    " "
   ]
  },
  {
   "cell_type": "code",
   "execution_count": 5,
   "metadata": {},
   "outputs": [],
   "source": [
    "#def play game\n",
    "def PickWinner(A,B):\n",
    "    \n",
    "    #calculate winrate\n",
    "    WRA = 1.5*(A.wins-A.losses)+(A.L5W-A.L5L)\n",
    "    WRB = 1.5*(B.wins-B.losses)+(B.L5W-B.L5L)\n",
    "    \n",
    "    #normalize WR in %\n",
    "    NWRA = WRA*100/(WRA+WRB)\n",
    "    NWRB = WRB*100/(WRA+WRB)\n",
    "    \n",
    "    #normalize KDA in %\n",
    "    NKDAA = A.KDA*100/(A.KDA+B.KDA)\n",
    "    NKDAB = B.KDA*100/(A.KDA+B.KDA)\n",
    "    \n",
    "    #normalize GPG in %\n",
    "    NGPGA = A.GPG*100/(A.GPG+B.GPG)\n",
    "    NGPGB = B.GPG*100/(A.GPG+B.GPG)\n",
    "    \n",
    "    #normalize CS in %\n",
    "    NCSA = A.CS*100/(A.CS+B.CS)\n",
    "    NCSB = B.CS*100/(A.CS+B.CS)\n",
    "    \n",
    "    #add weights\n",
    "    WA = NWRA + 0.25*NKDAA + 0.25*NGPGA + 0.25*NCSA\n",
    "    WB = NWRB + 0.25*NKDAB + 0.25*NGPGB + 0.25*NCSB\n",
    "    \n",
    "    #re normalize in %\n",
    "    NWA = WA*100/(WA+WB)\n",
    "    NWB = WB*100/(WA+WB)\n",
    "    \n",
    "    #random\n",
    "    r = random.randint(1,101)\n",
    "    \n",
    "    #pick winner\n",
    "    if(r<NWA):\n",
    "        A.addWin()\n",
    "        B.addLoss()\n",
    "        return A\n",
    "    else:\n",
    "        B.addWin()\n",
    "        A.addLoss()\n",
    "        return B\n",
    "    \n",
    "    "
   ]
  },
  {
   "cell_type": "code",
   "execution_count": 6,
   "metadata": {},
   "outputs": [],
   "source": [
    "#teams championship count\n",
    "\n",
    "d = {'G2':[0],'OG':[0],'FNC':[0],'SPY':[0],'VIT':[0],\"SK\":[0]}\n",
    "teams = pd.DataFrame(data=d)\n",
    "teams = teams.rename(index = {0: \"WINS\"})"
   ]
  },
  {
   "cell_type": "code",
   "execution_count": 7,
   "metadata": {},
   "outputs": [],
   "source": [
    "\n",
    "def Simulate():\n",
    "    #teams\n",
    "    G2  = Team(\"G2\",13,5,1,4,4.06,385.8,1063.92)\n",
    "    OG = Team(\"OG\",12,6,5,0,4.11,364.8,1090.95)\n",
    "    FNC  = Team(\"FNC\",11,7,5,0,4.24,366.6,1062.84)\n",
    "    SPY = Team(\"SPY\",11,7,4,1,4.34,371.6,1235.71)\n",
    "    VIT = Team(\"VIT\",10,8,1,4,3.24,367.4,1058.37)\n",
    "    SK = Team(\"SK\",9,9,3,2,2.84,358.4,1064.95)\n",
    "\n",
    "\n",
    "    #R1G1 3v6 / R1G2 4v5\n",
    "    R1G1 = PickWinner(FNC,VIT)\n",
    "    R1G2 = PickWinner(SK,SPY)\n",
    "\n",
    "    #R2G1 R1G1vR1G2\n",
    "    R2G1 = PickWinner(R1G1,R1G2)\n",
    "\n",
    "    #R3G1 1v2\n",
    "    R3G1 = PickWinner(G2,OG)\n",
    "    #loser\n",
    "    if(R3G1.name==\"G2\"):\n",
    "        LR3G1 = OG\n",
    "    else:\n",
    "        LR3G1 = G2\n",
    "\n",
    "    #R3G2 R2G1vLR3G1\n",
    "    R3G2 = PickWinner(R2G1,LR3G1)\n",
    "\n",
    "    #Final R3G1vR3G2\n",
    "    Final = PickWinner(R3G1,R3G2)\n",
    "    return Final.name\n",
    "    "
   ]
  },
  {
   "cell_type": "code",
   "execution_count": 8,
   "metadata": {
    "scrolled": true
   },
   "outputs": [],
   "source": [
    "#simulate x playoffs\n",
    "for x in range(0,1000000):\n",
    "    teams[Simulate()]+=1"
   ]
  },
  {
   "cell_type": "markdown",
   "metadata": {},
   "source": [
    "# Here are our Results"
   ]
  },
  {
   "cell_type": "code",
   "execution_count": 9,
   "metadata": {},
   "outputs": [
    {
     "data": {
      "text/html": [
       "<div>\n",
       "<style scoped>\n",
       "    .dataframe tbody tr th:only-of-type {\n",
       "        vertical-align: middle;\n",
       "    }\n",
       "\n",
       "    .dataframe tbody tr th {\n",
       "        vertical-align: top;\n",
       "    }\n",
       "\n",
       "    .dataframe thead th {\n",
       "        text-align: right;\n",
       "    }\n",
       "</style>\n",
       "<table border=\"1\" class=\"dataframe\">\n",
       "  <thead>\n",
       "    <tr style=\"text-align: right;\">\n",
       "      <th></th>\n",
       "      <th>G2</th>\n",
       "      <th>OG</th>\n",
       "      <th>FNC</th>\n",
       "      <th>SPY</th>\n",
       "      <th>VIT</th>\n",
       "      <th>SK</th>\n",
       "    </tr>\n",
       "  </thead>\n",
       "  <tbody>\n",
       "    <tr>\n",
       "      <th>WINS</th>\n",
       "      <td>283790</td>\n",
       "      <td>401728</td>\n",
       "      <td>143168</td>\n",
       "      <td>134751</td>\n",
       "      <td>16060</td>\n",
       "      <td>20503</td>\n",
       "    </tr>\n",
       "  </tbody>\n",
       "</table>\n",
       "</div>"
      ],
      "text/plain": [
       "          G2      OG     FNC     SPY    VIT     SK\n",
       "WINS  283790  401728  143168  134751  16060  20503"
      ]
     },
     "execution_count": 9,
     "metadata": {},
     "output_type": "execute_result"
    }
   ],
   "source": [
    "teams"
   ]
  }
 ],
 "metadata": {
  "kernelspec": {
   "display_name": "Python 3",
   "language": "python",
   "name": "python3"
  },
  "language_info": {
   "codemirror_mode": {
    "name": "ipython",
    "version": 3
   },
   "file_extension": ".py",
   "mimetype": "text/x-python",
   "name": "python",
   "nbconvert_exporter": "python",
   "pygments_lexer": "ipython3",
   "version": "3.7.2"
  }
 },
 "nbformat": 4,
 "nbformat_minor": 2
}
